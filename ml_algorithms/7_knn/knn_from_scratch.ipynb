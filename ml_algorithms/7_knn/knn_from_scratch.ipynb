{
 "cells": [
  {
   "cell_type": "code",
   "execution_count": 1,
   "metadata": {},
   "outputs": [],
   "source": [
    "# Libraries\n",
    "\n",
    "from collections import Counter\n",
    "import numpy as np\n",
    "from sklearn.model_selection import train_test_split"
   ]
  },
  {
   "cell_type": "code",
   "execution_count": 2,
   "metadata": {},
   "outputs": [],
   "source": [
    "# KNN Implementation\n",
    "\n",
    "class KNN:\n",
    "    def __init__(self, k=3):\n",
    "        self.k = k\n",
    "    \n",
    "    def fit(self, X_train, y_train):\n",
    "        self.X_train = X_train\n",
    "        self.y_train = y_train\n",
    "    \n",
    "    def _euclidean_distance(self, x1, x2):\n",
    "        return np.sqrt(np.sum((x1 - x2) ** 2))\n",
    "    \n",
    "    def predict(self, X_test):\n",
    "        predictions = [self._predict(x) for x in X_test]\n",
    "        return np.array(predictions)\n",
    "    \n",
    "    def _predict(self, x):\n",
    "        # Compute distances between x and all examples in the training set\n",
    "        distances = [self._euclidean_distance(x, x_train) for x_train in self.X_train]\n",
    "        # Get the indices of the k nearest neighbors\n",
    "        k_indices = np.argsort(distances)[:self.k]\n",
    "        # Extract the labels of the k nearest neighbors\n",
    "        k_nearest_labels = [self.y_train[i] for i in k_indices]\n",
    "        # Majority vote: the most common label among the k nearest neighbors\n",
    "        most_common = Counter(k_nearest_labels).most_common(1)\n",
    "        return most_common[0][0]"
   ]
  },
  {
   "cell_type": "code",
   "execution_count": 3,
   "metadata": {},
   "outputs": [],
   "source": [
    "# Function for generating synthetic data\n",
    "\n",
    "def generate_synthetic_data(n_samples=100, n_features=2, separation=2.0):\n",
    "    \"\"\"\n",
    "    Generates synthetic data for binary classification.\n",
    "    \n",
    "    Parameters:\n",
    "        n_samples (int): Total number of samples (split equally between two classes).\n",
    "        n_features (int): Number of features for each sample.\n",
    "        separation (float): Distance between the means of the two classes.\n",
    "        \n",
    "    Returns:\n",
    "        X (np.array): Feature matrix of shape (n_samples, n_features).\n",
    "        y (np.array): Labels (0 or 1) of shape (n_samples,).\n",
    "    \"\"\"\n",
    "    n_samples_per_class = n_samples // 2\n",
    "    \n",
    "    # Generate class 0 data around (0, 0)\n",
    "    X_class0 = np.random.randn(n_samples_per_class, n_features) + np.array([0] * n_features)\n",
    "    y_class0 = np.zeros(n_samples_per_class)\n",
    "    \n",
    "    # Generate class 1 data around (separation, separation)\n",
    "    X_class1 = np.random.randn(n_samples_per_class, n_features) + np.array([separation] * n_features)\n",
    "    y_class1 = np.ones(n_samples_per_class)\n",
    "    \n",
    "    # Combine the data\n",
    "    X = np.vstack((X_class0, X_class1))\n",
    "    y = np.hstack((y_class0, y_class1))\n",
    "    \n",
    "    return X, y"
   ]
  },
  {
   "cell_type": "code",
   "execution_count": 4,
   "metadata": {},
   "outputs": [],
   "source": [
    "# Evaluation Metic\n",
    "\n",
    "def f_beta_score(y_true, y_pred, beta=1.0):\n",
    "    \"\"\"\n",
    "    Computes the F-beta score between true and predicted labels.\n",
    "    \n",
    "    Parameters:\n",
    "        y_true (np.array): True labels (0 or 1).\n",
    "        y_pred (np.array): Predicted labels (0 or 1).\n",
    "        beta (float): Weighting factor for the F-beta score.\n",
    "                      beta > 1 favors recall, beta < 1 favors precision.\n",
    "    \n",
    "    Returns:\n",
    "        float: The F-beta score.\n",
    "    \"\"\"\n",
    "    # Calculate True Positives (TP), False Positives (FP), and False Negatives (FN)\n",
    "    tp = np.sum((y_true == 1) & (y_pred == 1))\n",
    "    fp = np.sum((y_true == 0) & (y_pred == 1))\n",
    "    fn = np.sum((y_true == 1) & (y_pred == 0))\n",
    "    \n",
    "    # Calculate precision and recall\n",
    "    precision = tp / (tp + fp) if (tp + fp) > 0 else 0\n",
    "    recall = tp / (tp + fn) if (tp + fn) > 0 else 0\n",
    "    \n",
    "    # Calculate the F-beta score\n",
    "    if precision + recall == 0:\n",
    "        return 0.0\n",
    "    f_beta = (1 + beta**2) * (precision * recall) / ((beta**2 * precision) + recall)\n",
    "    \n",
    "    return f_beta"
   ]
  },
  {
   "cell_type": "code",
   "execution_count": 5,
   "metadata": {},
   "outputs": [],
   "source": [
    "# Generating synthetic data\n",
    "\n",
    "X, y = generate_synthetic_data(n_samples=2000, n_features=2, separation=3.0)"
   ]
  },
  {
   "cell_type": "code",
   "execution_count": 6,
   "metadata": {},
   "outputs": [],
   "source": [
    "# Split the data into training and testing sets\n",
    "\n",
    "X_train, X_test, y_train, y_test = train_test_split(X, y, test_size=0.2, random_state=42)"
   ]
  },
  {
   "cell_type": "code",
   "execution_count": 7,
   "metadata": {},
   "outputs": [],
   "source": [
    "# Create an instance of KNN with k=3\n",
    "\n",
    "knn = KNN(k=3)\n",
    "knn.fit(X_train, y_train)"
   ]
  },
  {
   "cell_type": "code",
   "execution_count": 8,
   "metadata": {},
   "outputs": [],
   "source": [
    "# Generating predictions with KNN\n",
    "\n",
    "y_preds = knn.predict(X_test)"
   ]
  },
  {
   "cell_type": "code",
   "execution_count": 9,
   "metadata": {},
   "outputs": [
    {
     "name": "stdout",
     "output_type": "stream",
     "text": [
      "F1 Score: 0.9924812030075187\n"
     ]
    }
   ],
   "source": [
    "# Calculate F1 score (beta=1)\n",
    "f1_score = f_beta_score(y_test, y_preds, beta=1.0)\n",
    "print(\"F1 Score:\", f1_score)"
   ]
  }
 ],
 "metadata": {
  "kernelspec": {
   "display_name": "base",
   "language": "python",
   "name": "python3"
  },
  "language_info": {
   "codemirror_mode": {
    "name": "ipython",
    "version": 3
   },
   "file_extension": ".py",
   "mimetype": "text/x-python",
   "name": "python",
   "nbconvert_exporter": "python",
   "pygments_lexer": "ipython3",
   "version": "3.12.7"
  }
 },
 "nbformat": 4,
 "nbformat_minor": 2
}
