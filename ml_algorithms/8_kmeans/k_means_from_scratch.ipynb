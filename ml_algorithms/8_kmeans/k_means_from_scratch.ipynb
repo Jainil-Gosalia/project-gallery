{
 "cells": [
  {
   "cell_type": "code",
   "execution_count": null,
   "id": "e1bbff3e-a476-4be8-b1ca-1e32eed21686",
   "metadata": {},
   "outputs": [],
   "source": [
    "import numpy as np\n",
    "import matplotlib.pyplot as plt\n",
    "from sklearn.datasets import make_blobs"
   ]
  },
  {
   "cell_type": "code",
   "execution_count": null,
   "id": "b6955ae3-e302-4e2e-ac7c-6e654d55dee5",
   "metadata": {},
   "outputs": [],
   "source": [
    "# Distance Function\n",
    "def euclidean_distance(a, b):\n",
    "    return np.linalg.norm(a - b)"
   ]
  },
  {
   "cell_type": "code",
   "execution_count": null,
   "id": "7d2a960c-6c0b-4489-8f6e-f70870af1130",
   "metadata": {},
   "outputs": [],
   "source": [
    "# Getting Centroids\n",
    "def initialize_centroids(X, k):\n",
    "    indices = np.random.choice(len(X), k, replace=False)\n",
    "    return X[indices]"
   ]
  },
  {
   "cell_type": "code",
   "execution_count": null,
   "id": "5109b13f-5d2c-4c91-81d4-6be5e73309c3",
   "metadata": {},
   "outputs": [],
   "source": [
    "# Creating Clusters\n",
    "def assign_clusters(X, centroids):\n",
    "    labels = []\n",
    "    for point in X:\n",
    "        distances = [euclidean_distance(point, c) for c in centroids]\n",
    "        labels.append(np.argmin(distances))\n",
    "    return np.array(labels)"
   ]
  },
  {
   "cell_type": "code",
   "execution_count": null,
   "id": "bd4332b8-998b-4ff9-98cc-ab62262e1b8d",
   "metadata": {},
   "outputs": [],
   "source": [
    "# Updating Centroids\n",
    "def update_centroids(X, labels, k):\n",
    "    centroids = []\n",
    "    for i in range(k):\n",
    "        cluster_points = X[labels == i]\n",
    "        if len(cluster_points) == 0:  # avoid empty cluster\n",
    "            centroids.append(X[np.random.randint(len(X))])\n",
    "        else:\n",
    "            centroids.append(cluster_points.mean(axis=0))\n",
    "    return np.array(centroids)"
   ]
  },
  {
   "cell_type": "code",
   "execution_count": null,
   "id": "609b3f31-4d19-4e57-a4d5-346ebab57e8a",
   "metadata": {},
   "outputs": [],
   "source": [
    "# K Means \n",
    "def kmeans(X, k, max_iters=100, tol=1e-4):\n",
    "    centroids = initialize_centroids(X, k)\n",
    "    for _ in range(max_iters):\n",
    "        old_centroids = centroids\n",
    "        labels = assign_clusters(X, centroids)\n",
    "        centroids = update_centroids(X, labels, k)\n",
    "        if np.all(np.linalg.norm(centroids - old_centroids, axis=1) < tol):\n",
    "            break\n",
    "    return centroids, labels"
   ]
  },
  {
   "cell_type": "code",
   "execution_count": null,
   "id": "74f3d7ad-f019-45d8-aa33-9efff254510b",
   "metadata": {},
   "outputs": [],
   "source": [
    "# Creating Synthetic Data\n",
    "X, _ = make_blobs(n_samples=300, centers=4, cluster_std=0.6, random_state=42)"
   ]
  },
  {
   "cell_type": "code",
   "execution_count": null,
   "id": "228487d9-7e90-459a-912c-6ffde9adddf5",
   "metadata": {},
   "outputs": [],
   "source": [
    "# Testing out K Means Implementation\n",
    "centroids, labels = kmeans(X, k=4)\n",
    "print(f\"These are the centroids for each of the clusters: \\n{centroids}\")      "
   ]
  },
  {
   "cell_type": "code",
   "execution_count": null,
   "id": "cb1ace65-d199-4fee-9d6b-90154a6fc104",
   "metadata": {},
   "outputs": [],
   "source": [
    "# Visualization of Results\n",
    "plt.scatter(X[:, 0], X[:, 1], c=labels, cmap='viridis')\n",
    "plt.scatter(centroids[:, 0], centroids[:, 1], marker='X', c='red', s=200)\n",
    "plt.title(\"K-Means from Scratch\")\n",
    "plt.show()"
   ]
  },
  {
   "cell_type": "code",
   "execution_count": null,
   "id": "d4029e08-381b-4290-a192-78ba83574147",
   "metadata": {},
   "outputs": [],
   "source": [
    "from sklearn.datasets import make_moons\n",
    "\n",
    "X, _ = make_moons(n_samples=300, noise=0.1)\n",
    "centroids, labels = kmeans(X, k=2)\n",
    "\n",
    "plt.scatter(X[:, 0], X[:, 1], c=labels, cmap='coolwarm')\n",
    "plt.title(\"K-Means on Two Moons (Fails)\")\n",
    "plt.show()"
   ]
  },
  {
   "cell_type": "code",
   "execution_count": null,
   "id": "2069d012-410f-4429-bd5e-878969b3b9a3",
   "metadata": {},
   "outputs": [],
   "source": [
    "def compute_inertia(X, centroids, labels):\n",
    "    return sum(np.sum((X[labels == i] - c)**2) for i, c in enumerate(centroids))\n",
    "\n",
    "inertias = []\n",
    "for k in range(1, 10):\n",
    "    centroids, labels = kmeans(X, k)\n",
    "    inertias.append(compute_inertia(X, centroids, labels))\n",
    "\n",
    "plt.plot(range(1, 10), inertias, marker='o')\n",
    "plt.title(\"Elbow Method to Choose K\")\n",
    "plt.xlabel(\"Number of Clusters (K)\")\n",
    "plt.ylabel(\"Inertia\")\n",
    "plt.show()\n"
   ]
  }
 ],
 "metadata": {
  "kernelspec": {
   "display_name": "Python 3 (ipykernel)",
   "language": "python",
   "name": "python3"
  },
  "language_info": {
   "codemirror_mode": {
    "name": "ipython",
    "version": 3
   },
   "file_extension": ".py",
   "mimetype": "text/x-python",
   "name": "python",
   "nbconvert_exporter": "python",
   "pygments_lexer": "ipython3",
   "version": "3.11.6"
  }
 },
 "nbformat": 4,
 "nbformat_minor": 5
}
