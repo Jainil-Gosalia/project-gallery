{
 "cells": [
  {
   "cell_type": "code",
   "execution_count": null,
   "metadata": {
    "id": "I2HdDk4lfhnu"
   },
   "outputs": [],
   "source": [
    "# Libraries\n",
    "\n",
    "import pandas as pd\n",
    "import numpy as np\n",
    "import matplotlib.pyplot as plt\n",
    "from sklearn.model_selection import train_test_split\n",
    "from sklearn.neighbors import KNeighborsClassifier\n",
    "from sklearn.metrics import confusion_matrix\n",
    "from sklearn.metrics import classification_report"
   ]
  },
  {
   "cell_type": "code",
   "execution_count": null,
   "metadata": {
    "id": "iQyf6_lmg-Zz"
   },
   "outputs": [],
   "source": [
    "# Load data\n",
    "\n",
    "df = pd.read_csv('divorce.csv')"
   ]
  },
  {
   "cell_type": "code",
   "execution_count": null,
   "metadata": {
    "id": "65z_4fvLIXvu"
   },
   "outputs": [],
   "source": [
    "# Seperate Target variable\n",
    "\n",
    "Y = df.Divorce_Y_N"
   ]
  },
  {
   "cell_type": "code",
   "execution_count": null,
   "metadata": {
    "id": "WVawE66oIXsY"
   },
   "outputs": [],
   "source": [
    "# Getting training data\n",
    "\n",
    "X = df.drop(['Divorce_Y_N'],axis=1)"
   ]
  },
  {
   "cell_type": "code",
   "execution_count": null,
   "metadata": {
    "id": "Yyj-albZKytj"
   },
   "outputs": [],
   "source": [
    "# Doing train test split\n",
    "\n",
    "X_train, X_test, Y_train, Y_test = train_test_split(\n",
    "    X, Y, test_size=0.33, random_state=42)"
   ]
  },
  {
   "cell_type": "code",
   "execution_count": null,
   "metadata": {
    "colab": {
     "base_uri": "https://localhost:8080/"
    },
    "id": "aSH9la9ZKuBp",
    "outputId": "9dcb86a2-8c99-4090-ccad-d6f6d98e5d49"
   },
   "outputs": [
    {
     "data": {
      "text/plain": [
       "KNeighborsClassifier(n_neighbors=3)"
      ]
     },
     "execution_count": 55,
     "metadata": {},
     "output_type": "execute_result"
    }
   ],
   "source": [
    "# Fitting the data to a KNN model\n",
    "\n",
    "neigh = KNeighborsClassifier(n_neighbors=3)\n",
    "neigh.fit(X_train, Y_train)"
   ]
  },
  {
   "cell_type": "code",
   "execution_count": null,
   "metadata": {
    "id": "IqKLlpvbLCno"
   },
   "outputs": [],
   "source": [
    "# Predicting on the test set\n",
    "\n",
    "Y_pred = neigh.predict(X_test)"
   ]
  },
  {
   "cell_type": "code",
   "execution_count": null,
   "metadata": {
    "colab": {
     "base_uri": "https://localhost:8080/"
    },
    "id": "9EytNKPfLNwA",
    "outputId": "95f2715d-eb00-4fa9-ae90-2924c7b280f1"
   },
   "outputs": [
    {
     "data": {
      "text/plain": [
       "array([[28,  0],\n",
       "       [ 1, 28]])"
      ]
     },
     "execution_count": 57,
     "metadata": {},
     "output_type": "execute_result"
    }
   ],
   "source": [
    "# Confusion Matrix\n",
    "\n",
    "confusion_matrix(Y_test, Y_pred)"
   ]
  },
  {
   "cell_type": "code",
   "execution_count": null,
   "metadata": {
    "colab": {
     "base_uri": "https://localhost:8080/"
    },
    "id": "Yv_OuLXYLd95",
    "outputId": "e326dd4b-a07f-4af2-b998-5e2836d40d08"
   },
   "outputs": [
    {
     "name": "stdout",
     "output_type": "stream",
     "text": [
      "              precision    recall  f1-score   support\n",
      "\n",
      "           0       0.97      1.00      0.98        28\n",
      "           1       1.00      0.97      0.98        29\n",
      "\n",
      "    accuracy                           0.98        57\n",
      "   macro avg       0.98      0.98      0.98        57\n",
      "weighted avg       0.98      0.98      0.98        57\n",
      "\n"
     ]
    }
   ],
   "source": [
    "# Accuracy Metrics\n",
    "\n",
    "print(classification_report(Y_test, Y_pred))"
   ]
  }
 ],
 "metadata": {
  "colab": {
   "collapsed_sections": [],
   "name": "Untitled12.ipynb",
   "provenance": []
  },
  "kernelspec": {
   "display_name": "base",
   "language": "python",
   "name": "python3"
  },
  "language_info": {
   "name": "python",
   "version": "3.12.7"
  }
 },
 "nbformat": 4,
 "nbformat_minor": 0
}
