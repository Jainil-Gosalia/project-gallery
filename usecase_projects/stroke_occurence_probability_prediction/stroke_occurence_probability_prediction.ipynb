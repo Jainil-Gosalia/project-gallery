{
 "cells": [
  {
   "cell_type": "code",
   "execution_count": null,
   "metadata": {},
   "outputs": [],
   "source": [
    "# Libraries\n",
    "\n",
    "import pandas as pd\n",
    "import numpy as np\n",
    "import matplotlib.pyplot as plt\n",
    "import scipy.stats as st\n",
    "from scipy.stats import pearsonr\n",
    "from scipy.stats import spearmanr\n",
    "from sklearn.preprocessing import StandardScaler\n",
    "from sklearn.tree import DecisionTreeClassifier\n",
    "from sklearn.model_selection import cross_val_score"
   ]
  },
  {
   "cell_type": "code",
   "execution_count": null,
   "metadata": {},
   "outputs": [],
   "source": [
    "# Handling missing values\n",
    "\n",
    "missing_values = [\"?\",\"-\",\" \", \"\"]\n",
    "df = pd.read_csv(\"healthcare-dataset-stroke-data.csv\", na_values=missing_values)"
   ]
  },
  {
   "cell_type": "code",
   "execution_count": null,
   "metadata": {},
   "outputs": [
    {
     "data": {
      "text/plain": [
       "id                     0\n",
       "gender                 0\n",
       "age                    0\n",
       "hypertension           0\n",
       "heart_disease          0\n",
       "ever_married           0\n",
       "work_type              0\n",
       "Residence_type         0\n",
       "avg_glucose_level      0\n",
       "bmi                  201\n",
       "smoking_status         0\n",
       "stroke                 0\n",
       "dtype: int64"
      ]
     },
     "execution_count": 29,
     "metadata": {},
     "output_type": "execute_result"
    }
   ],
   "source": [
    "# Checking for NA values\n",
    "\n",
    "df.isna().sum()"
   ]
  },
  {
   "cell_type": "code",
   "execution_count": null,
   "metadata": {},
   "outputs": [
    {
     "data": {
      "text/plain": [
       "id                   5110\n",
       "gender                  3\n",
       "age                   104\n",
       "hypertension            2\n",
       "heart_disease           2\n",
       "ever_married            2\n",
       "work_type               5\n",
       "Residence_type          2\n",
       "avg_glucose_level    3979\n",
       "bmi                   418\n",
       "smoking_status          4\n",
       "stroke                  2\n",
       "dtype: int64"
      ]
     },
     "execution_count": 30,
     "metadata": {},
     "output_type": "execute_result"
    }
   ],
   "source": [
    "# Checking for Unique Values\n",
    "\n",
    "df.nunique()"
   ]
  },
  {
   "cell_type": "code",
   "execution_count": null,
   "metadata": {},
   "outputs": [],
   "source": [
    "# Dropping identifier variables\n",
    "\n",
    "df = df.dropna()\n",
    "df = df.drop([\"id\"],axis=1)\n"
   ]
  },
  {
   "cell_type": "code",
   "execution_count": null,
   "metadata": {},
   "outputs": [
    {
     "data": {
      "text/plain": [
       "4909"
      ]
     },
     "execution_count": 32,
     "metadata": {},
     "output_type": "execute_result"
    }
   ],
   "source": [
    "# Checking total number of records\n",
    "\n",
    "len(df)"
   ]
  },
  {
   "cell_type": "code",
   "execution_count": null,
   "metadata": {},
   "outputs": [
    {
     "data": {
      "text/plain": [
       "4909"
      ]
     },
     "execution_count": 33,
     "metadata": {},
     "output_type": "execute_result"
    }
   ],
   "source": [
    "# Seperating dependant and independant variables\n",
    "\n",
    "Y = df['stroke']\n",
    "len(Y)"
   ]
  },
  {
   "cell_type": "code",
   "execution_count": null,
   "metadata": {},
   "outputs": [],
   "source": [
    "# Removing the independant varible from dependant variable\n",
    "\n",
    "df = df.drop(['stroke'], axis=1)"
   ]
  },
  {
   "cell_type": "code",
   "execution_count": null,
   "metadata": {},
   "outputs": [
    {
     "data": {
      "text/html": [
       "<div>\n",
       "<style scoped>\n",
       "    .dataframe tbody tr th:only-of-type {\n",
       "        vertical-align: middle;\n",
       "    }\n",
       "\n",
       "    .dataframe tbody tr th {\n",
       "        vertical-align: top;\n",
       "    }\n",
       "\n",
       "    .dataframe thead th {\n",
       "        text-align: right;\n",
       "    }\n",
       "</style>\n",
       "<table border=\"1\" class=\"dataframe\">\n",
       "  <thead>\n",
       "    <tr style=\"text-align: right;\">\n",
       "      <th></th>\n",
       "      <th>bmi</th>\n",
       "      <th>avg_glucose_level</th>\n",
       "      <th>age</th>\n",
       "    </tr>\n",
       "  </thead>\n",
       "  <tbody>\n",
       "    <tr>\n",
       "      <th>0</th>\n",
       "      <td>36.6</td>\n",
       "      <td>228.69</td>\n",
       "      <td>67.0</td>\n",
       "    </tr>\n",
       "    <tr>\n",
       "      <th>2</th>\n",
       "      <td>32.5</td>\n",
       "      <td>105.92</td>\n",
       "      <td>80.0</td>\n",
       "    </tr>\n",
       "    <tr>\n",
       "      <th>3</th>\n",
       "      <td>34.4</td>\n",
       "      <td>171.23</td>\n",
       "      <td>49.0</td>\n",
       "    </tr>\n",
       "    <tr>\n",
       "      <th>4</th>\n",
       "      <td>24.0</td>\n",
       "      <td>174.12</td>\n",
       "      <td>79.0</td>\n",
       "    </tr>\n",
       "    <tr>\n",
       "      <th>5</th>\n",
       "      <td>29.0</td>\n",
       "      <td>186.21</td>\n",
       "      <td>81.0</td>\n",
       "    </tr>\n",
       "  </tbody>\n",
       "</table>\n",
       "</div>"
      ],
      "text/plain": [
       "    bmi  avg_glucose_level   age\n",
       "0  36.6             228.69  67.0\n",
       "2  32.5             105.92  80.0\n",
       "3  34.4             171.23  49.0\n",
       "4  24.0             174.12  79.0\n",
       "5  29.0             186.21  81.0"
      ]
     },
     "execution_count": 35,
     "metadata": {},
     "output_type": "execute_result"
    }
   ],
   "source": [
    "# Seperating continuos variables\n",
    "\n",
    "conti_var = [\"bmi\",\"avg_glucose_level\",\"age\"]\n",
    "conti_df = df[conti_var]\n",
    "conti_df.head()"
   ]
  },
  {
   "cell_type": "code",
   "execution_count": 36,
   "metadata": {},
   "outputs": [
    {
     "data": {
      "text/plain": [
       "4909"
      ]
     },
     "execution_count": 36,
     "metadata": {},
     "output_type": "execute_result"
    }
   ],
   "source": [
    "len(conti_df)"
   ]
  },
  {
   "cell_type": "code",
   "execution_count": null,
   "metadata": {},
   "outputs": [
    {
     "name": "stdout",
     "output_type": "stream",
     "text": [
      "Correlation between bmi and avg_glucose_levelis:  0.11437029781765023\n",
      "Correlation between bmi and ageis:  0.37564955990962323\n",
      "Correlation between avg_glucose_level and bmiis:  0.11437029781765025\n",
      "Correlation between avg_glucose_level and ageis:  0.14080904558032697\n",
      "Correlation between age and bmiis:  0.3756495599096232\n",
      "Correlation between age and avg_glucose_levelis:  0.14080904558032695\n",
      "[] []\n"
     ]
    }
   ],
   "source": [
    "# Checking for clear high correlation\n",
    "\n",
    "variables = []\n",
    "correlation = []\n",
    "for var1 in conti_var:\n",
    "    for var2 in conti_var:\n",
    "        if var1 == var2:\n",
    "            pass\n",
    "        else:\n",
    "            cor_val, _ = spearmanr(conti_df[var1], conti_df[var2])\n",
    "            print(\"Correlation between \" + var1 + \" and \" + var2 + \"is: \", cor_val)\n",
    "            if abs(cor_val) > 0.5:\n",
    "                variables.append({var1,var2})\n",
    "                correlation.append(cor_val)\n",
    "\n",
    "print(variables, correlation)"
   ]
  },
  {
   "cell_type": "code",
   "execution_count": null,
   "metadata": {},
   "outputs": [],
   "source": [
    "# Seperating categorical variables\n",
    "\n",
    "cat_var = list(set(df.columns) - set(conti_var)) "
   ]
  },
  {
   "cell_type": "code",
   "execution_count": 39,
   "metadata": {},
   "outputs": [
    {
     "data": {
      "text/plain": [
       "['hypertension',\n",
       " 'ever_married',\n",
       " 'Residence_type',\n",
       " 'smoking_status',\n",
       " 'heart_disease',\n",
       " 'work_type',\n",
       " 'gender']"
      ]
     },
     "execution_count": 39,
     "metadata": {},
     "output_type": "execute_result"
    }
   ],
   "source": [
    "cat_var"
   ]
  },
  {
   "cell_type": "code",
   "execution_count": 40,
   "metadata": {},
   "outputs": [],
   "source": [
    "cat_df = df[cat_var]"
   ]
  },
  {
   "cell_type": "code",
   "execution_count": null,
   "metadata": {},
   "outputs": [
    {
     "name": "stdout",
     "output_type": "stream",
     "text": [
      "Correlation between hypertension and ever_marriedis:  0.16240626040283884\n",
      "Correlation between hypertension and Residence_typeis:  -0.0010741461750661688\n",
      "Correlation between hypertension and smoking_statusis:  0.10824293024583871\n",
      "Correlation between hypertension and heart_diseaseis:  0.11599099148786933\n",
      "Correlation between hypertension and work_typeis:  -0.03580569389875176\n",
      "Correlation between hypertension and genderis:  0.021669875718188767\n",
      "Correlation between ever_married and hypertensionis:  0.16240626040283884\n",
      "Correlation between ever_married and Residence_typeis:  0.004989171140676837\n",
      "Correlation between ever_married and smoking_statusis:  0.25824125177832397\n",
      "Correlation between ever_married and heart_diseaseis:  0.11124512057147098\n",
      "Correlation between ever_married and work_typeis:  -0.32898598198089946\n",
      "Correlation between ever_married and genderis:  -0.03692569248470313\n",
      "Correlation between Residence_type and hypertensionis:  -0.0010741461750661688\n",
      "Correlation between Residence_type and ever_marriedis:  0.004989171140676837\n",
      "Correlation between Residence_type and smoking_statusis:  0.013844444203365539\n",
      "Correlation between Residence_type and heart_diseaseis:  -0.0023617439180356778\n",
      "Correlation between Residence_type and work_typeis:  -0.002096822221803542\n",
      "Correlation between Residence_type and genderis:  -0.004769091007379034\n",
      "Correlation between smoking_status and hypertensionis:  0.10824293024583873\n",
      "Correlation between smoking_status and ever_marriedis:  0.25824125177832397\n",
      "Correlation between smoking_status and Residence_typeis:  0.013844444203365539\n",
      "Correlation between smoking_status and heart_diseaseis:  0.05330757725349453\n",
      "Correlation between smoking_status and work_typeis:  -0.3062366226947297\n",
      "Correlation between smoking_status and genderis:  -0.06015793454840106\n",
      "Correlation between heart_disease and hypertensionis:  0.11599099148786932\n",
      "Correlation between heart_disease and ever_marriedis:  0.11124512057147098\n",
      "Correlation between heart_disease and Residence_typeis:  -0.002361743918035678\n",
      "Correlation between heart_disease and smoking_statusis:  0.05330757725349453\n",
      "Correlation between heart_disease and work_typeis:  -0.01918171937256394\n",
      "Correlation between heart_disease and genderis:  0.08282059211090254\n",
      "Correlation between work_type and hypertensionis:  -0.03580569389875176\n",
      "Correlation between work_type and ever_marriedis:  -0.32898598198089946\n",
      "Correlation between work_type and Residence_typeis:  -0.0020968222218035425\n",
      "Correlation between work_type and smoking_statusis:  -0.3062366226947297\n",
      "Correlation between work_type and heart_diseaseis:  -0.019181719372563938\n",
      "Correlation between work_type and genderis:  0.05680343997801622\n",
      "Correlation between gender and hypertensionis:  0.02166987571818877\n",
      "Correlation between gender and ever_marriedis:  -0.03692569248470313\n",
      "Correlation between gender and Residence_typeis:  -0.004769091007379034\n",
      "Correlation between gender and smoking_statusis:  -0.060157934548401064\n",
      "Correlation between gender and heart_diseaseis:  0.08282059211090254\n",
      "Correlation between gender and work_typeis:  0.05680343997801622\n"
     ]
    }
   ],
   "source": [
    "# Checking for clear high correlation \n",
    "\n",
    "variables = []\n",
    "correlation = []\n",
    "for var1 in cat_var:\n",
    "    for var2 in cat_var:\n",
    "        if var1 == var2:\n",
    "            pass\n",
    "        else:\n",
    "            cor_val, _ = spearmanr(cat_df[var1], cat_df[var2])\n",
    "            print(\"Correlation between \" + var1 + \" and \" + var2 + \"is: \", cor_val)\n",
    "            if abs(cor_val) > 0.5:\n",
    "                variables.append({var1,var2})\n",
    "                correlation.append(cor_val)\n",
    "            "
   ]
  },
  {
   "cell_type": "code",
   "execution_count": null,
   "metadata": {},
   "outputs": [
    {
     "name": "stdout",
     "output_type": "stream",
     "text": [
      "[] []\n"
     ]
    }
   ],
   "source": [
    "#printing all significant correlations\n",
    "\n",
    "print(variables, correlation)"
   ]
  },
  {
   "cell_type": "code",
   "execution_count": null,
   "metadata": {},
   "outputs": [
    {
     "data": {
      "text/html": [
       "<div>\n",
       "<style scoped>\n",
       "    .dataframe tbody tr th:only-of-type {\n",
       "        vertical-align: middle;\n",
       "    }\n",
       "\n",
       "    .dataframe tbody tr th {\n",
       "        vertical-align: top;\n",
       "    }\n",
       "\n",
       "    .dataframe thead th {\n",
       "        text-align: right;\n",
       "    }\n",
       "</style>\n",
       "<table border=\"1\" class=\"dataframe\">\n",
       "  <thead>\n",
       "    <tr style=\"text-align: right;\">\n",
       "      <th></th>\n",
       "      <th>hypertension</th>\n",
       "      <th>heart_disease</th>\n",
       "      <th>ever_married_No</th>\n",
       "      <th>ever_married_Yes</th>\n",
       "      <th>Residence_type_Rural</th>\n",
       "      <th>Residence_type_Urban</th>\n",
       "      <th>smoking_status_Unknown</th>\n",
       "      <th>smoking_status_formerly smoked</th>\n",
       "      <th>smoking_status_never smoked</th>\n",
       "      <th>smoking_status_smokes</th>\n",
       "      <th>work_type_Govt_job</th>\n",
       "      <th>work_type_Never_worked</th>\n",
       "      <th>work_type_Private</th>\n",
       "      <th>work_type_Self-employed</th>\n",
       "      <th>work_type_children</th>\n",
       "      <th>gender_Female</th>\n",
       "      <th>gender_Male</th>\n",
       "      <th>gender_Other</th>\n",
       "    </tr>\n",
       "  </thead>\n",
       "  <tbody>\n",
       "    <tr>\n",
       "      <th>0</th>\n",
       "      <td>0</td>\n",
       "      <td>1</td>\n",
       "      <td>0</td>\n",
       "      <td>1</td>\n",
       "      <td>0</td>\n",
       "      <td>1</td>\n",
       "      <td>0</td>\n",
       "      <td>1</td>\n",
       "      <td>0</td>\n",
       "      <td>0</td>\n",
       "      <td>0</td>\n",
       "      <td>0</td>\n",
       "      <td>1</td>\n",
       "      <td>0</td>\n",
       "      <td>0</td>\n",
       "      <td>0</td>\n",
       "      <td>1</td>\n",
       "      <td>0</td>\n",
       "    </tr>\n",
       "    <tr>\n",
       "      <th>2</th>\n",
       "      <td>0</td>\n",
       "      <td>1</td>\n",
       "      <td>0</td>\n",
       "      <td>1</td>\n",
       "      <td>1</td>\n",
       "      <td>0</td>\n",
       "      <td>0</td>\n",
       "      <td>0</td>\n",
       "      <td>1</td>\n",
       "      <td>0</td>\n",
       "      <td>0</td>\n",
       "      <td>0</td>\n",
       "      <td>1</td>\n",
       "      <td>0</td>\n",
       "      <td>0</td>\n",
       "      <td>0</td>\n",
       "      <td>1</td>\n",
       "      <td>0</td>\n",
       "    </tr>\n",
       "    <tr>\n",
       "      <th>3</th>\n",
       "      <td>0</td>\n",
       "      <td>0</td>\n",
       "      <td>0</td>\n",
       "      <td>1</td>\n",
       "      <td>0</td>\n",
       "      <td>1</td>\n",
       "      <td>0</td>\n",
       "      <td>0</td>\n",
       "      <td>0</td>\n",
       "      <td>1</td>\n",
       "      <td>0</td>\n",
       "      <td>0</td>\n",
       "      <td>1</td>\n",
       "      <td>0</td>\n",
       "      <td>0</td>\n",
       "      <td>1</td>\n",
       "      <td>0</td>\n",
       "      <td>0</td>\n",
       "    </tr>\n",
       "    <tr>\n",
       "      <th>4</th>\n",
       "      <td>1</td>\n",
       "      <td>0</td>\n",
       "      <td>0</td>\n",
       "      <td>1</td>\n",
       "      <td>1</td>\n",
       "      <td>0</td>\n",
       "      <td>0</td>\n",
       "      <td>0</td>\n",
       "      <td>1</td>\n",
       "      <td>0</td>\n",
       "      <td>0</td>\n",
       "      <td>0</td>\n",
       "      <td>0</td>\n",
       "      <td>1</td>\n",
       "      <td>0</td>\n",
       "      <td>1</td>\n",
       "      <td>0</td>\n",
       "      <td>0</td>\n",
       "    </tr>\n",
       "    <tr>\n",
       "      <th>5</th>\n",
       "      <td>0</td>\n",
       "      <td>0</td>\n",
       "      <td>0</td>\n",
       "      <td>1</td>\n",
       "      <td>0</td>\n",
       "      <td>1</td>\n",
       "      <td>0</td>\n",
       "      <td>1</td>\n",
       "      <td>0</td>\n",
       "      <td>0</td>\n",
       "      <td>0</td>\n",
       "      <td>0</td>\n",
       "      <td>1</td>\n",
       "      <td>0</td>\n",
       "      <td>0</td>\n",
       "      <td>0</td>\n",
       "      <td>1</td>\n",
       "      <td>0</td>\n",
       "    </tr>\n",
       "  </tbody>\n",
       "</table>\n",
       "</div>"
      ],
      "text/plain": [
       "   hypertension  heart_disease  ever_married_No  ever_married_Yes  \\\n",
       "0             0              1                0                 1   \n",
       "2             0              1                0                 1   \n",
       "3             0              0                0                 1   \n",
       "4             1              0                0                 1   \n",
       "5             0              0                0                 1   \n",
       "\n",
       "   Residence_type_Rural  Residence_type_Urban  smoking_status_Unknown  \\\n",
       "0                     0                     1                       0   \n",
       "2                     1                     0                       0   \n",
       "3                     0                     1                       0   \n",
       "4                     1                     0                       0   \n",
       "5                     0                     1                       0   \n",
       "\n",
       "   smoking_status_formerly smoked  smoking_status_never smoked  \\\n",
       "0                               1                            0   \n",
       "2                               0                            1   \n",
       "3                               0                            0   \n",
       "4                               0                            1   \n",
       "5                               1                            0   \n",
       "\n",
       "   smoking_status_smokes  work_type_Govt_job  work_type_Never_worked  \\\n",
       "0                      0                   0                       0   \n",
       "2                      0                   0                       0   \n",
       "3                      1                   0                       0   \n",
       "4                      0                   0                       0   \n",
       "5                      0                   0                       0   \n",
       "\n",
       "   work_type_Private  work_type_Self-employed  work_type_children  \\\n",
       "0                  1                        0                   0   \n",
       "2                  1                        0                   0   \n",
       "3                  1                        0                   0   \n",
       "4                  0                        1                   0   \n",
       "5                  1                        0                   0   \n",
       "\n",
       "   gender_Female  gender_Male  gender_Other  \n",
       "0              0            1             0  \n",
       "2              0            1             0  \n",
       "3              1            0             0  \n",
       "4              1            0             0  \n",
       "5              0            1             0  "
      ]
     },
     "execution_count": 43,
     "metadata": {},
     "output_type": "execute_result"
    }
   ],
   "source": [
    "# Onehot Encoding for categorical variables\n",
    "\n",
    "cat_df = pd.get_dummies(cat_df)\n",
    "cat_df.head()"
   ]
  },
  {
   "cell_type": "code",
   "execution_count": 44,
   "metadata": {},
   "outputs": [
    {
     "data": {
      "text/plain": [
       "4909"
      ]
     },
     "execution_count": 44,
     "metadata": {},
     "output_type": "execute_result"
    }
   ],
   "source": [
    "len(cat_df)"
   ]
  },
  {
   "cell_type": "code",
   "execution_count": null,
   "metadata": {},
   "outputs": [],
   "source": [
    "# Applying standard scaling to continuos variables\n",
    "\n",
    "scaler = StandardScaler()\n",
    "conti_df = scaler.fit_transform(conti_df)\n",
    "conti_df = pd.DataFrame(conti_df)"
   ]
  },
  {
   "cell_type": "code",
   "execution_count": 46,
   "metadata": {},
   "outputs": [
    {
     "data": {
      "text/plain": [
       "4909"
      ]
     },
     "execution_count": 46,
     "metadata": {},
     "output_type": "execute_result"
    }
   ],
   "source": [
    "len(conti_df)"
   ]
  },
  {
   "cell_type": "code",
   "execution_count": null,
   "metadata": {},
   "outputs": [],
   "source": [
    "# Creating final training data \n",
    "\n",
    "conti_df = np.array(conti_df)\n",
    "cat_df = np.array(cat_df)\n",
    "\n",
    "X = np.hstack((cat_df,conti_df))"
   ]
  },
  {
   "cell_type": "code",
   "execution_count": 48,
   "metadata": {},
   "outputs": [
    {
     "data": {
      "text/plain": [
       "4909"
      ]
     },
     "execution_count": 48,
     "metadata": {},
     "output_type": "execute_result"
    }
   ],
   "source": [
    "len(X)"
   ]
  },
  {
   "cell_type": "code",
   "execution_count": null,
   "metadata": {},
   "outputs": [],
   "source": [
    "X = pd.DataFrame(X)"
   ]
  },
  {
   "cell_type": "code",
   "execution_count": null,
   "metadata": {},
   "outputs": [],
   "source": [
    "# Training with a Decision Tree classifier\n",
    "\n",
    "clf = DecisionTreeClassifier(random_state=1)\n",
    "cross_val = cross_val_score(clf, X, Y, cv=100)"
   ]
  },
  {
   "cell_type": "code",
   "execution_count": null,
   "metadata": {},
   "outputs": [],
   "source": [
    "# Getting accuarcy metrics\n",
    "\n",
    "average_cross_val = cross_val.sum()/(len(cross_val)+1)\n",
    "accuracy = round(average_cross_val, 3)*100 "
   ]
  },
  {
   "cell_type": "code",
   "execution_count": 57,
   "metadata": {},
   "outputs": [
    {
     "name": "stdout",
     "output_type": "stream",
     "text": [
      "Model Accuracy is: 90.3%\n"
     ]
    }
   ],
   "source": [
    "print(\"Model Accuracy is: \" + str(accuracy) + \"%\")"
   ]
  }
 ],
 "metadata": {
  "kernelspec": {
   "display_name": "Python 3",
   "language": "python",
   "name": "python3"
  },
  "language_info": {
   "codemirror_mode": {
    "name": "ipython",
    "version": 3
   },
   "file_extension": ".py",
   "mimetype": "text/x-python",
   "name": "python",
   "nbconvert_exporter": "python",
   "pygments_lexer": "ipython3",
   "version": "3.8.5"
  }
 },
 "nbformat": 4,
 "nbformat_minor": 4
}
