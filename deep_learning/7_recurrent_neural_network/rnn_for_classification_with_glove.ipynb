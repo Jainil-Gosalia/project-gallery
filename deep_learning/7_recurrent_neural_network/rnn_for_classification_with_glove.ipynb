{
 "cells": [
  {
   "cell_type": "code",
   "execution_count": 2,
   "id": "2d06c882-65eb-4ca6-b2fc-fa1f5af769de",
   "metadata": {},
   "outputs": [
    {
     "name": "stdout",
     "output_type": "stream",
     "text": [
      "⏬ Downloading GloVe embeddings...\n",
      "✅ Download complete. Extracting...\n",
      "📁 Extraction complete.\n"
     ]
    }
   ],
   "source": [
    "import os\n",
    "import zipfile\n",
    "import urllib.request\n",
    "\n",
    "def download_glove(dest_path=\"glove.6B.100d.txt\"):\n",
    "    if not os.path.exists(dest_path):\n",
    "        print(\"⏬ Downloading GloVe embeddings...\")\n",
    "        url = \"http://nlp.stanford.edu/data/glove.6B.zip\"\n",
    "        zip_path = \"glove.6B.zip\"\n",
    "        urllib.request.urlretrieve(url, zip_path)\n",
    "        print(\"✅ Download complete. Extracting...\")\n",
    "        with zipfile.ZipFile(zip_path, 'r') as zip_ref:\n",
    "            zip_ref.extractall()\n",
    "        os.remove(zip_path)\n",
    "        print(\"📁 Extraction complete.\")\n",
    "    else:\n",
    "        print(\"🟢 GloVe already downloaded.\")\n",
    "\n",
    "download_glove()\n"
   ]
  },
  {
   "cell_type": "code",
   "execution_count": 4,
   "id": "0d94eafc-e32f-47ec-b21a-0a7458f0c6ba",
   "metadata": {},
   "outputs": [
    {
     "name": "stdout",
     "output_type": "stream",
     "text": [
      "Loaded 40268 vectors from GloVe.\n"
     ]
    },
    {
     "name": "stderr",
     "output_type": "stream",
     "text": [
      "100%|████████████████████████████████████████████████████████████████████████████████████████████████████████████████████| 391/391 [00:01<00:00, 204.63it/s]\n"
     ]
    },
    {
     "name": "stdout",
     "output_type": "stream",
     "text": [
      "Epoch 1: Train loss=0.4927, Val loss=0.3719, Val acc=0.8466\n"
     ]
    },
    {
     "name": "stderr",
     "output_type": "stream",
     "text": [
      "100%|████████████████████████████████████████████████████████████████████████████████████████████████████████████████████| 391/391 [00:01<00:00, 250.73it/s]\n"
     ]
    },
    {
     "name": "stdout",
     "output_type": "stream",
     "text": [
      "Epoch 2: Train loss=0.2850, Val loss=0.3365, Val acc=0.8604\n"
     ]
    },
    {
     "name": "stderr",
     "output_type": "stream",
     "text": [
      "100%|████████████████████████████████████████████████████████████████████████████████████████████████████████████████████| 391/391 [00:01<00:00, 250.53it/s]\n"
     ]
    },
    {
     "name": "stdout",
     "output_type": "stream",
     "text": [
      "Epoch 3: Train loss=0.2489, Val loss=0.4284, Val acc=0.8450\n"
     ]
    },
    {
     "name": "stderr",
     "output_type": "stream",
     "text": [
      "100%|████████████████████████████████████████████████████████████████████████████████████████████████████████████████████| 391/391 [00:01<00:00, 249.84it/s]\n"
     ]
    },
    {
     "name": "stdout",
     "output_type": "stream",
     "text": [
      "Epoch 4: Train loss=0.1676, Val loss=0.5317, Val acc=0.8182\n"
     ]
    },
    {
     "name": "stderr",
     "output_type": "stream",
     "text": [
      "100%|████████████████████████████████████████████████████████████████████████████████████████████████████████████████████| 391/391 [00:01<00:00, 251.04it/s]\n"
     ]
    },
    {
     "name": "stdout",
     "output_type": "stream",
     "text": [
      "Epoch 5: Train loss=0.0750, Val loss=0.5588, Val acc=0.8535\n"
     ]
    },
    {
     "name": "stderr",
     "output_type": "stream",
     "text": [
      "100%|████████████████████████████████████████████████████████████████████████████████████████████████████████████████████| 391/391 [00:01<00:00, 248.50it/s]\n"
     ]
    },
    {
     "name": "stdout",
     "output_type": "stream",
     "text": [
      "Epoch 6: Train loss=0.0320, Val loss=0.7285, Val acc=0.8481\n"
     ]
    },
    {
     "name": "stderr",
     "output_type": "stream",
     "text": [
      "100%|████████████████████████████████████████████████████████████████████████████████████████████████████████████████████| 391/391 [00:01<00:00, 249.54it/s]\n"
     ]
    },
    {
     "name": "stdout",
     "output_type": "stream",
     "text": [
      "Epoch 7: Train loss=0.0158, Val loss=0.8216, Val acc=0.8386\n"
     ]
    },
    {
     "name": "stderr",
     "output_type": "stream",
     "text": [
      "100%|████████████████████████████████████████████████████████████████████████████████████████████████████████████████████| 391/391 [00:01<00:00, 249.06it/s]\n"
     ]
    },
    {
     "name": "stdout",
     "output_type": "stream",
     "text": [
      "Epoch 8: Train loss=0.0163, Val loss=0.9176, Val acc=0.8316\n"
     ]
    },
    {
     "name": "stderr",
     "output_type": "stream",
     "text": [
      "100%|████████████████████████████████████████████████████████████████████████████████████████████████████████████████████| 391/391 [00:01<00:00, 249.86it/s]\n"
     ]
    },
    {
     "name": "stdout",
     "output_type": "stream",
     "text": [
      "Epoch 9: Train loss=0.0201, Val loss=1.0831, Val acc=0.8323\n"
     ]
    },
    {
     "name": "stderr",
     "output_type": "stream",
     "text": [
      "100%|████████████████████████████████████████████████████████████████████████████████████████████████████████████████████| 391/391 [00:01<00:00, 250.39it/s]\n"
     ]
    },
    {
     "name": "stdout",
     "output_type": "stream",
     "text": [
      "Epoch 10: Train loss=0.0081, Val loss=0.8339, Val acc=0.8462\n"
     ]
    }
   ],
   "source": [
    "import torch\n",
    "import torch.nn as nn\n",
    "import torch.optim as optim\n",
    "from datasets import load_dataset\n",
    "from torch.utils.data import DataLoader, Dataset\n",
    "from collections import Counter\n",
    "import numpy as np\n",
    "from tqdm import tqdm\n",
    "\n",
    "# 1. Load IMDb dataset\n",
    "dataset = load_dataset(\"imdb\")\n",
    "train_texts = dataset['train']['text']\n",
    "train_labels = dataset['train']['label']\n",
    "test_texts = dataset['test']['text']\n",
    "test_labels = dataset['test']['label']\n",
    "\n",
    "# 2. Build vocab\n",
    "def build_vocab(texts, max_size=100000):\n",
    "    words = []\n",
    "    for text in texts:\n",
    "        words.extend(text.lower().split())\n",
    "    freq = Counter(words)\n",
    "    vocab = {word: i+1 for i, (word, _) in enumerate(freq.most_common(max_size))}\n",
    "    return vocab\n",
    "\n",
    "vocab = build_vocab(train_texts)\n",
    "vocab_size = len(vocab)\n",
    "\n",
    "# 3. Encode text\n",
    "def encode(text, vocab, max_len=300):\n",
    "    tokens = text.lower().split()\n",
    "    ids = [vocab.get(token, 0) for token in tokens][:max_len]\n",
    "    return ids + [0] * (max_len - len(ids))\n",
    "\n",
    "train_inputs = [encode(t, vocab) for t in train_texts]\n",
    "test_inputs = [encode(t, vocab) for t in test_texts]\n",
    "\n",
    "# 4. Custom dataset\n",
    "class IMDbDataset(Dataset):\n",
    "    def __init__(self, inputs, labels):\n",
    "        self.inputs = inputs\n",
    "        self.labels = labels\n",
    "\n",
    "    def __len__(self):\n",
    "        return len(self.inputs)\n",
    "\n",
    "    def __getitem__(self, idx):\n",
    "        return torch.tensor(self.inputs[idx]), torch.tensor(self.labels[idx])\n",
    "\n",
    "train_dataset = IMDbDataset(train_inputs, train_labels)\n",
    "test_dataset = IMDbDataset(test_inputs, test_labels)\n",
    "\n",
    "train_loader = DataLoader(train_dataset, batch_size=64, shuffle=True)\n",
    "test_loader = DataLoader(test_dataset, batch_size=64)\n",
    "\n",
    "# 5. Load GloVe embeddings\n",
    "def load_glove(path, vocab, embed_dim=100):\n",
    "    embeddings = np.random.uniform(-0.05, 0.05, (len(vocab)+1, embed_dim))\n",
    "    found = 0\n",
    "    with open(path, 'r', encoding='utf-8') as f:\n",
    "        for line in f:\n",
    "            parts = line.strip().split()\n",
    "            word = parts[0]\n",
    "            if word in vocab:\n",
    "                idx = vocab[word]\n",
    "                vect = np.array(parts[1:], dtype=np.float32)\n",
    "                embeddings[idx] = vect\n",
    "                found += 1\n",
    "    print(f\"Loaded {found} vectors from GloVe.\")\n",
    "    return torch.tensor(embeddings, dtype=torch.float32)\n",
    "\n",
    "glove_path = \"glove.6B.100d.txt\"  # Ensure this file is downloaded in your working dir\n",
    "embedding_matrix = load_glove(glove_path, vocab, embed_dim=100)\n",
    "\n",
    "# 6. RNN model with GloVe\n",
    "class RNNClassifier(nn.Module):\n",
    "    def __init__(self, embedding_matrix, hidden_dim=128, output_dim=2, num_layers=2, dropout=0.3, bidirectional=True):\n",
    "        super().__init__()\n",
    "        vocab_size, embed_dim = embedding_matrix.shape\n",
    "        self.embedding = nn.Embedding.from_pretrained(embedding_matrix, freeze=False)\n",
    "        self.rnn = nn.RNN(embed_dim, hidden_dim, num_layers=num_layers,\n",
    "                          dropout=dropout if num_layers > 1 else 0.0,\n",
    "                          bidirectional=bidirectional, batch_first=True)\n",
    "        self.dropout = nn.Dropout(dropout)\n",
    "        self.fc = nn.Linear(hidden_dim * (2 if bidirectional else 1), output_dim)\n",
    "\n",
    "    def forward(self, x):\n",
    "        x = self.embedding(x)\n",
    "        out, _ = self.rnn(x)\n",
    "        out = out.mean(dim=1)\n",
    "        out = self.dropout(out)\n",
    "        return self.fc(out)\n",
    "\n",
    "device = torch.device(\"cuda\" if torch.cuda.is_available() else \"cpu\")\n",
    "model = RNNClassifier(embedding_matrix).to(device)\n",
    "\n",
    "# 7. Training setup\n",
    "criterion = nn.CrossEntropyLoss()\n",
    "optimizer = optim.Adam(model.parameters(), lr=1e-3)\n",
    "\n",
    "# 8. Training loop\n",
    "def train_epoch(model, loader, optimizer, criterion):\n",
    "    model.train()\n",
    "    total_loss = 0\n",
    "    for inputs, labels in tqdm(loader):\n",
    "        inputs, labels = inputs.to(device), labels.to(device)\n",
    "        optimizer.zero_grad()\n",
    "        outputs = model(inputs)\n",
    "        loss = criterion(outputs, labels)\n",
    "        loss.backward()\n",
    "        optimizer.step()\n",
    "        total_loss += loss.item()\n",
    "    return total_loss / len(loader)\n",
    "\n",
    "def evaluate(model, loader, criterion):\n",
    "    model.eval()\n",
    "    total_loss, correct = 0, 0\n",
    "    with torch.no_grad():\n",
    "        for inputs, labels in loader:\n",
    "            inputs, labels = inputs.to(device), labels.to(device)\n",
    "            outputs = model(inputs)\n",
    "            loss = criterion(outputs, labels)\n",
    "            total_loss += loss.item()\n",
    "            preds = torch.argmax(outputs, dim=1)\n",
    "            correct += (preds == labels).sum().item()\n",
    "    accuracy = correct / len(loader.dataset)\n",
    "    return total_loss / len(loader), accuracy\n",
    "\n",
    "# 9. Run training\n",
    "for epoch in range(10):\n",
    "    train_loss = train_epoch(model, train_loader, optimizer, criterion)\n",
    "    val_loss, val_acc = evaluate(model, test_loader, criterion)\n",
    "    print(f\"Epoch {epoch+1}: Train loss={train_loss:.4f}, Val loss={val_loss:.4f}, Val acc={val_acc:.4f}\")\n"
   ]
  }
 ],
 "metadata": {
  "kernelspec": {
   "display_name": "Python 3 (ipykernel)",
   "language": "python",
   "name": "python3"
  },
  "language_info": {
   "codemirror_mode": {
    "name": "ipython",
    "version": 3
   },
   "file_extension": ".py",
   "mimetype": "text/x-python",
   "name": "python",
   "nbconvert_exporter": "python",
   "pygments_lexer": "ipython3",
   "version": "3.11.6"
  }
 },
 "nbformat": 4,
 "nbformat_minor": 5
}
