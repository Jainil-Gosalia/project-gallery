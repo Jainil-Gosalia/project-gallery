{
 "cells": [
  {
   "cell_type": "code",
   "execution_count": 1,
   "id": "b80fc3a8-f389-4ca6-a1d0-40a8a65c3484",
   "metadata": {},
   "outputs": [],
   "source": [
    "# Imports\n",
    "import torch\n",
    "from helper import DummyModel"
   ]
  },
  {
   "cell_type": "code",
   "execution_count": 2,
   "id": "3a189787-880e-4c74-a64f-54a5e612072b",
   "metadata": {},
   "outputs": [
    {
     "data": {
      "text/plain": [
       "DummyModel(\n",
       "  (token_embedding): Embedding(2, 2)\n",
       "  (linear_1): Linear(in_features=2, out_features=2, bias=True)\n",
       "  (layernorm_1): LayerNorm((2,), eps=1e-05, elementwise_affine=True)\n",
       "  (linear_2): Linear(in_features=2, out_features=2, bias=True)\n",
       "  (layernorm_2): LayerNorm((2,), eps=1e-05, elementwise_affine=True)\n",
       "  (head): Linear(in_features=2, out_features=2, bias=True)\n",
       ")"
      ]
     },
     "execution_count": 2,
     "metadata": {},
     "output_type": "execute_result"
    }
   ],
   "source": [
    "# Loading a Dummy Model\n",
    "model = DummyModel()\n",
    "model"
   ]
  },
  {
   "cell_type": "code",
   "execution_count": 3,
   "id": "a01654ce-f432-4432-91a4-4a8dacce5cea",
   "metadata": {},
   "outputs": [],
   "source": [
    "# Visualize Param Dtype\n",
    "def print_param_dtype(model):\n",
    "    for name, param in model.named_parameters():\n",
    "        print(f\"{name} is loaded in {param.dtype}\")"
   ]
  },
  {
   "cell_type": "code",
   "execution_count": 4,
   "id": "962d05f1-a182-49e2-a1e3-5453afb9d732",
   "metadata": {},
   "outputs": [
    {
     "name": "stdout",
     "output_type": "stream",
     "text": [
      "token_embedding.weight is loaded in torch.float32\n",
      "linear_1.weight is loaded in torch.float32\n",
      "linear_1.bias is loaded in torch.float32\n",
      "layernorm_1.weight is loaded in torch.float32\n",
      "layernorm_1.bias is loaded in torch.float32\n",
      "linear_2.weight is loaded in torch.float32\n",
      "linear_2.bias is loaded in torch.float32\n",
      "layernorm_2.weight is loaded in torch.float32\n",
      "layernorm_2.bias is loaded in torch.float32\n",
      "head.weight is loaded in torch.float32\n",
      "head.bias is loaded in torch.float32\n"
     ]
    }
   ],
   "source": [
    "# Visualize Param dtype for float32 \n",
    "print_param_dtype(model)"
   ]
  },
  {
   "cell_type": "code",
   "execution_count": 5,
   "id": "9091349b-4d80-4840-81ec-ea8fbf23521b",
   "metadata": {},
   "outputs": [],
   "source": [
    "# Casting model weights to float 16\n",
    "model_fp16 = DummyModel().half()"
   ]
  },
  {
   "cell_type": "code",
   "execution_count": 6,
   "id": "dc5e3150-9cb0-4277-aa67-62990f4d1a66",
   "metadata": {},
   "outputs": [
    {
     "name": "stdout",
     "output_type": "stream",
     "text": [
      "token_embedding.weight is loaded in torch.float16\n",
      "linear_1.weight is loaded in torch.float16\n",
      "linear_1.bias is loaded in torch.float16\n",
      "layernorm_1.weight is loaded in torch.float16\n",
      "layernorm_1.bias is loaded in torch.float16\n",
      "linear_2.weight is loaded in torch.float16\n",
      "linear_2.bias is loaded in torch.float16\n",
      "layernorm_2.weight is loaded in torch.float16\n",
      "layernorm_2.bias is loaded in torch.float16\n",
      "head.weight is loaded in torch.float16\n",
      "head.bias is loaded in torch.float16\n"
     ]
    }
   ],
   "source": [
    "# Visualize Param dtype for float16 \n",
    "print_param_dtype(model_fp16)"
   ]
  },
  {
   "cell_type": "code",
   "execution_count": 7,
   "id": "e9a47afc-6094-4a93-a4bc-73c8e486e65d",
   "metadata": {},
   "outputs": [
    {
     "data": {
      "text/plain": [
       "tensor([[[-0.6872,  0.7132],\n",
       "         [-0.6872,  0.7132]],\n",
       "\n",
       "        [[-0.6872,  0.7132],\n",
       "         [-0.6872,  0.7132]]], grad_fn=<ViewBackward0>)"
      ]
     },
     "execution_count": 7,
     "metadata": {},
     "output_type": "execute_result"
    }
   ],
   "source": [
    "# Inference using float32 model\n",
    "dummy_input = torch.LongTensor([[1, 0], [0, 1]])\n",
    "logits_fp32 = model(dummy_input)\n",
    "logits_fp32"
   ]
  },
  {
   "cell_type": "code",
   "execution_count": 8,
   "id": "ee550a90-9288-489a-ae5f-2faafdb313dc",
   "metadata": {},
   "outputs": [
    {
     "data": {
      "text/plain": [
       "tensor([[[-0.6870,  0.7134],\n",
       "         [-0.6870,  0.7134]],\n",
       "\n",
       "        [[-0.6870,  0.7134],\n",
       "         [-0.6870,  0.7134]]], dtype=torch.float16, grad_fn=<ViewBackward0>)"
      ]
     },
     "execution_count": 8,
     "metadata": {},
     "output_type": "execute_result"
    }
   ],
   "source": [
    "# Inference using float16 model\n",
    "logits_fp16 = model_fp16(dummy_input)\n",
    "logits_fp16"
   ]
  },
  {
   "cell_type": "code",
   "execution_count": 9,
   "id": "66ed63ef-527b-471f-9760-2b9728acece2",
   "metadata": {},
   "outputs": [],
   "source": [
    "# Casting model weights to bfloat 16\n",
    "model_bf16 = model.to(torch.bfloat16)"
   ]
  },
  {
   "cell_type": "code",
   "execution_count": 10,
   "id": "3ab57239-5a14-40c5-9c3d-72c69b7afc5f",
   "metadata": {},
   "outputs": [
    {
     "name": "stdout",
     "output_type": "stream",
     "text": [
      "token_embedding.weight is loaded in torch.bfloat16\n",
      "linear_1.weight is loaded in torch.bfloat16\n",
      "linear_1.bias is loaded in torch.bfloat16\n",
      "layernorm_1.weight is loaded in torch.bfloat16\n",
      "layernorm_1.bias is loaded in torch.bfloat16\n",
      "linear_2.weight is loaded in torch.bfloat16\n",
      "linear_2.bias is loaded in torch.bfloat16\n",
      "layernorm_2.weight is loaded in torch.bfloat16\n",
      "layernorm_2.bias is loaded in torch.bfloat16\n",
      "head.weight is loaded in torch.bfloat16\n",
      "head.bias is loaded in torch.bfloat16\n"
     ]
    }
   ],
   "source": [
    "# Visualize Param dtype for bfloat16 \n",
    "print_param_dtype(model_bf16)"
   ]
  },
  {
   "cell_type": "code",
   "execution_count": 11,
   "id": "69d59f64-df74-4ffd-8850-a9f1e838533b",
   "metadata": {},
   "outputs": [
    {
     "data": {
      "text/plain": [
       "tensor([[[-0.6875,  0.7148],\n",
       "         [-0.6875,  0.7148]],\n",
       "\n",
       "        [[-0.6875,  0.7148],\n",
       "         [-0.6875,  0.7148]]], dtype=torch.bfloat16, grad_fn=<ViewBackward0>)"
      ]
     },
     "execution_count": 11,
     "metadata": {},
     "output_type": "execute_result"
    }
   ],
   "source": [
    "logits_bf16 = model_bf16(dummy_input)\n",
    "logits_bf16"
   ]
  },
  {
   "cell_type": "code",
   "execution_count": 12,
   "id": "9fea81e0-f4bf-4fdd-b0c7-1cc3103e4181",
   "metadata": {},
   "outputs": [
    {
     "name": "stdout",
     "output_type": "stream",
     "text": [
      "Mean diff: 0.00020457804203033447 | Max diff: 0.00022590160369873047\n"
     ]
    }
   ],
   "source": [
    "# Quantization error for float16 compared to float32\n",
    "mean_diff = torch.abs(logits_fp16 - logits_fp32).mean().item()\n",
    "max_diff = torch.abs(logits_fp16 - logits_fp32).max().item()\n",
    "\n",
    "print(f\"Mean diff: {mean_diff} | Max diff: {max_diff}\")"
   ]
  },
  {
   "cell_type": "code",
   "execution_count": 13,
   "id": "14447c72-7392-4c1e-bd07-d2ab99ddc915",
   "metadata": {},
   "outputs": [
    {
     "name": "stdout",
     "output_type": "stream",
     "text": [
      "Mean diff: 0.000997886061668396 | Max diff: 0.0016907453536987305\n"
     ]
    }
   ],
   "source": [
    "# Quantization error for bfloat16 compared to float32\n",
    "mean_diff = torch.abs(logits_bf16 - logits_fp32).mean().item()\n",
    "max_diff = torch.abs(logits_bf16 - logits_fp32).max().item()\n",
    "\n",
    "print(f\"Mean diff: {mean_diff} | Max diff: {max_diff}\")"
   ]
  }
 ],
 "metadata": {
  "kernelspec": {
   "display_name": "Python 3 (ipykernel)",
   "language": "python",
   "name": "python3"
  },
  "language_info": {
   "codemirror_mode": {
    "name": "ipython",
    "version": 3
   },
   "file_extension": ".py",
   "mimetype": "text/x-python",
   "name": "python",
   "nbconvert_exporter": "python",
   "pygments_lexer": "ipython3",
   "version": "3.10.15"
  },
  "widgets": {
   "application/vnd.jupyter.widget-state+json": {
    "state": {},
    "version_major": 2,
    "version_minor": 0
   }
  }
 },
 "nbformat": 4,
 "nbformat_minor": 5
}
