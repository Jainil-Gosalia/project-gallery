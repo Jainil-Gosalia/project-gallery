{
 "cells": [
  {
   "cell_type": "code",
   "execution_count": 1,
   "id": "7796100f-5cfe-4ea4-861d-0b7f6db4ab9d",
   "metadata": {},
   "outputs": [],
   "source": [
    "# Imports\n",
    "from transformers import T5Tokenizer, T5ForConditionalGeneration\n",
    "from quanto import quantize, freeze\n",
    "import torch\n",
    "import re\n",
    "from helper import compute_module_sizes"
   ]
  },
  {
   "cell_type": "code",
   "execution_count": 2,
   "id": "4a04ff43-8bff-4800-a71c-65f07707cf75",
   "metadata": {},
   "outputs": [
    {
     "name": "stderr",
     "output_type": "stream",
     "text": [
      "You are using the default legacy behaviour of the <class 'transformers.models.t5.tokenization_t5.T5Tokenizer'>. This is expected, and simply means that the `legacy` (previous) behavior will be used so nothing changes for you. If you want to use the new behaviour, set `legacy=False`. This should only be set if you understand what it means, and thoroughly read the reason why this was added as explained in https://github.com/huggingface/transformers/pull/24565\n"
     ]
    }
   ],
   "source": [
    "# Loading the model\n",
    "model_name = \"google/flan-t5-small\"\n",
    "tokenizer = T5Tokenizer.from_pretrained(model_name)\n",
    "model = T5ForConditionalGeneration.from_pretrained(model_name, torch_dtype=torch.float32)"
   ]
  },
  {
   "cell_type": "code",
   "execution_count": 3,
   "id": "4ea41c8d-6b2f-4634-9d24-abe07498aa29",
   "metadata": {},
   "outputs": [
    {
     "data": {
      "text/plain": [
       "0.307844608"
      ]
     },
     "execution_count": 3,
     "metadata": {},
     "output_type": "execute_result"
    }
   ],
   "source": [
    "# Visualizing the Memory Footprint\n",
    "compute_module_sizes(model)"
   ]
  },
  {
   "cell_type": "code",
   "execution_count": 4,
   "id": "829fb4dc-9265-4ef5-b20c-c2ce6c12f3b3",
   "metadata": {},
   "outputs": [],
   "source": [
    "# Performing Linear Quantization\n",
    "quantize(model, weights=torch.int8, activations=None)\n",
    "freeze(model)"
   ]
  },
  {
   "cell_type": "code",
   "execution_count": 5,
   "id": "734c159b-6246-4fc1-8282-f0ae0ae4e608",
   "metadata": {},
   "outputs": [
    {
     "data": {
      "text/plain": [
       "0.12682868"
      ]
     },
     "execution_count": 5,
     "metadata": {},
     "output_type": "execute_result"
    }
   ],
   "source": [
    "# Visualizing the Memory Footprint\n",
    "compute_module_sizes(model)"
   ]
  }
 ],
 "metadata": {
  "kernelspec": {
   "display_name": "Python 3 (ipykernel)",
   "language": "python",
   "name": "python3"
  },
  "language_info": {
   "codemirror_mode": {
    "name": "ipython",
    "version": 3
   },
   "file_extension": ".py",
   "mimetype": "text/x-python",
   "name": "python",
   "nbconvert_exporter": "python",
   "pygments_lexer": "ipython3",
   "version": "3.10.15"
  },
  "widgets": {
   "application/vnd.jupyter.widget-state+json": {
    "state": {},
    "version_major": 2,
    "version_minor": 0
   }
  }
 },
 "nbformat": 4,
 "nbformat_minor": 5
}
