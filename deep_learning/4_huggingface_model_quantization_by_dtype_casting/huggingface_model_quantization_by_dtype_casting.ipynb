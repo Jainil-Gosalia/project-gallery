{
 "cells": [
  {
   "cell_type": "code",
   "execution_count": 1,
   "id": "97ca2997-709b-460b-91a4-f39fa81ceab3",
   "metadata": {},
   "outputs": [],
   "source": [
    "import torch\n",
    "from transformers import BlipForConditionalGeneration"
   ]
  },
  {
   "cell_type": "code",
   "execution_count": 2,
   "id": "67aeb440-60c4-4fc4-9724-a663665ac1e3",
   "metadata": {},
   "outputs": [],
   "source": [
    "# Loading the model\n",
    "model_name = \"Salesforce/blip-image-captioning-base\"\n",
    "model = BlipForConditionalGeneration.from_pretrained(model_name)"
   ]
  },
  {
   "cell_type": "code",
   "execution_count": 3,
   "id": "cbdb8aa4-af12-4bc0-82c0-26f5bd80582a",
   "metadata": {},
   "outputs": [
    {
     "name": "stdout",
     "output_type": "stream",
     "text": [
      "Footprint of the fp32 model in bytes:  989660400\n",
      "Footprint of the fp32 model in MBs:  989.6604\n"
     ]
    }
   ],
   "source": [
    "# Get Memory Footprint\n",
    "fp32_mem_footprint = model.get_memory_footprint()\n",
    "print(\"Footprint of the fp32 model in bytes: \",\n",
    "      fp32_mem_footprint)\n",
    "print(\"Footprint of the fp32 model in MBs: \", \n",
    "      fp32_mem_footprint/1e+6)"
   ]
  },
  {
   "cell_type": "code",
   "execution_count": 4,
   "id": "1cbb2fbf-cf61-440c-befe-f17f3a8a7ef0",
   "metadata": {},
   "outputs": [],
   "source": [
    "# Downcast the model to bf16\n",
    "model_bf16 = BlipForConditionalGeneration.from_pretrained(\n",
    "                                               model_name,\n",
    "                               torch_dtype=torch.bfloat16\n",
    ")"
   ]
  },
  {
   "cell_type": "code",
   "execution_count": 5,
   "id": "b88f15e5-9073-4811-8b8c-a70e7a504cdd",
   "metadata": {},
   "outputs": [
    {
     "name": "stdout",
     "output_type": "stream",
     "text": [
      "Footprint of the bf16 model in bytes:  494832248\n",
      "Footprint of the bf16 model in MBs:  494.832248\n"
     ]
    }
   ],
   "source": [
    "bf16_mem_footprint = model_bf16.get_memory_footprint()\n",
    "print(\"Footprint of the bf16 model in bytes: \",\n",
    "      bf16_mem_footprint)\n",
    "print(\"Footprint of the bf16 model in MBs: \", \n",
    "      bf16_mem_footprint/1e+6)"
   ]
  },
  {
   "cell_type": "code",
   "execution_count": 6,
   "id": "dbb327ef-521f-4a9d-ac38-0e4fc2a18625",
   "metadata": {},
   "outputs": [
    {
     "name": "stdout",
     "output_type": "stream",
     "text": [
      "Footprint of the bf16 model in MBs:  494.832248\n",
      "Relative diff: 0.5000020693967345\n"
     ]
    }
   ],
   "source": [
    "# Get the relative difference\n",
    "relative_diff = bf16_mem_footprint / fp32_mem_footprint\n",
    "\n",
    "print(\"Footprint of the bf16 model in MBs: \", \n",
    "      bf16_mem_footprint/1e+6)\n",
    "print(f\"Relative diff: {relative_diff}\")"
   ]
  }
 ],
 "metadata": {
  "kernelspec": {
   "display_name": "Python 3 (ipykernel)",
   "language": "python",
   "name": "python3"
  },
  "language_info": {
   "codemirror_mode": {
    "name": "ipython",
    "version": 3
   },
   "file_extension": ".py",
   "mimetype": "text/x-python",
   "name": "python",
   "nbconvert_exporter": "python",
   "pygments_lexer": "ipython3",
   "version": "3.10.15"
  },
  "widgets": {
   "application/vnd.jupyter.widget-state+json": {
    "state": {},
    "version_major": 2,
    "version_minor": 0
   }
  }
 },
 "nbformat": 4,
 "nbformat_minor": 5
}
