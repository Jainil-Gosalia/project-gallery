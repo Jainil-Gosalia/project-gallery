{
 "cells": [
  {
   "cell_type": "code",
   "execution_count": 1,
   "id": "0995895f-38bb-4310-975e-53e9fbaaf10a",
   "metadata": {},
   "outputs": [],
   "source": [
    "# Libraries\n",
    "\n",
    "import torch\n",
    "from transformers import AutoTokenizer, AutoModel\n",
    "import numpy as np\n",
    "import torch.nn.functional as F\n",
    "import faiss  # for efficient similarity search"
   ]
  },
  {
   "cell_type": "code",
   "execution_count": 2,
   "id": "17615375-7441-4d5f-ba73-4074050493db",
   "metadata": {},
   "outputs": [
    {
     "data": {
      "text/plain": [
       "BertModel(\n",
       "  (embeddings): BertEmbeddings(\n",
       "    (word_embeddings): Embedding(30522, 768, padding_idx=0)\n",
       "    (position_embeddings): Embedding(512, 768)\n",
       "    (token_type_embeddings): Embedding(2, 768)\n",
       "    (LayerNorm): LayerNorm((768,), eps=1e-12, elementwise_affine=True)\n",
       "    (dropout): Dropout(p=0.1, inplace=False)\n",
       "  )\n",
       "  (encoder): BertEncoder(\n",
       "    (layer): ModuleList(\n",
       "      (0-11): 12 x BertLayer(\n",
       "        (attention): BertAttention(\n",
       "          (self): BertSdpaSelfAttention(\n",
       "            (query): Linear(in_features=768, out_features=768, bias=True)\n",
       "            (key): Linear(in_features=768, out_features=768, bias=True)\n",
       "            (value): Linear(in_features=768, out_features=768, bias=True)\n",
       "            (dropout): Dropout(p=0.1, inplace=False)\n",
       "          )\n",
       "          (output): BertSelfOutput(\n",
       "            (dense): Linear(in_features=768, out_features=768, bias=True)\n",
       "            (LayerNorm): LayerNorm((768,), eps=1e-12, elementwise_affine=True)\n",
       "            (dropout): Dropout(p=0.1, inplace=False)\n",
       "          )\n",
       "        )\n",
       "        (intermediate): BertIntermediate(\n",
       "          (dense): Linear(in_features=768, out_features=3072, bias=True)\n",
       "          (intermediate_act_fn): GELUActivation()\n",
       "        )\n",
       "        (output): BertOutput(\n",
       "          (dense): Linear(in_features=3072, out_features=768, bias=True)\n",
       "          (LayerNorm): LayerNorm((768,), eps=1e-12, elementwise_affine=True)\n",
       "          (dropout): Dropout(p=0.1, inplace=False)\n",
       "        )\n",
       "      )\n",
       "    )\n",
       "  )\n",
       "  (pooler): BertPooler(\n",
       "    (dense): Linear(in_features=768, out_features=768, bias=True)\n",
       "    (activation): Tanh()\n",
       "  )\n",
       ")"
      ]
     },
     "execution_count": 2,
     "metadata": {},
     "output_type": "execute_result"
    }
   ],
   "source": [
    "# Load tokenizer and model\n",
    "\n",
    "MODEL_NAME = \"bert-base-uncased\"\n",
    "\n",
    "tokenizer = AutoTokenizer.from_pretrained(MODEL_NAME)\n",
    "model = AutoModel.from_pretrained(MODEL_NAME)\n",
    "model.eval()  # Set model to evaluation mode"
   ]
  },
  {
   "cell_type": "code",
   "execution_count": 3,
   "id": "5ebbdd66-885f-4666-a8bb-89702d4975a3",
   "metadata": {},
   "outputs": [],
   "source": [
    "# Encode Text function\n",
    "\n",
    "def encode_text(texts, tokenizer, model, max_length=128, device=\"cpu\"):\n",
    "    \"\"\"Encodes a list of texts into contextual embeddings.\"\"\"\n",
    "    # Tokenize input texts\n",
    "    inputs = tokenizer(\n",
    "        texts,\n",
    "        padding=\"max_length\",\n",
    "        truncation=True,\n",
    "        max_length=max_length,\n",
    "        return_tensors=\"pt\"\n",
    "    )\n",
    "    \n",
    "    # Move data to device\n",
    "    inputs = {key: val.to(device) for key, val in inputs.items()}\n",
    "    \n",
    "    # Forward pass through the model\n",
    "    with torch.no_grad():\n",
    "        outputs = model(**inputs)\n",
    "    \n",
    "    # Use last hidden state (token-level embeddings)\n",
    "    token_embeddings = outputs.last_hidden_state  # Shape: (batch_size, seq_len, hidden_dim)\n",
    "    return token_embeddings\n"
   ]
  },
  {
   "cell_type": "code",
   "execution_count": 4,
   "id": "88084923-8571-4452-bc89-7aa37ea0d905",
   "metadata": {},
   "outputs": [],
   "source": [
    "# Index Documents\n",
    "\n",
    "def index_documents(documents, tokenizer, model, device=\"cpu\"):\n",
    "    \"\"\"Precomputes document embeddings and indexes them.\"\"\"\n",
    "    # Encode documents\n",
    "    document_embeddings = []\n",
    "    for doc in documents:\n",
    "        token_embeds = encode_text([doc], tokenizer, model, device=device)\n",
    "        # Aggregate embeddings (e.g., mean-pooling or use token embeddings directly)\n",
    "        doc_emb = token_embeds.mean(dim=1)  # Use mean of all tokens\n",
    "        document_embeddings.append(doc_emb.squeeze().cpu().numpy())\n",
    "    \n",
    "    # Convert embeddings to FAISS index\n",
    "    embedding_matrix = np.stack(document_embeddings)\n",
    "    index = faiss.IndexFlatL2(embedding_matrix.shape[1])  # L2 distance index\n",
    "    index.add(embedding_matrix)\n",
    "    \n",
    "    return index, document_embeddings\n"
   ]
  },
  {
   "cell_type": "code",
   "execution_count": 5,
   "id": "472fed65-93c0-43a7-b0d1-f3bb4819b5ee",
   "metadata": {},
   "outputs": [],
   "source": [
    "# Max Sim Function\n",
    "\n",
    "def compute_max_similarity(query_embeds, doc_embeds):\n",
    "    \"\"\"Compute max-sim using cosine similarity between query and document embeddings.\"\"\"\n",
    "    # Normalize embeddings to unit vectors\n",
    "    query_embeds = F.normalize(query_embeds, p=2, dim=1)  # Shape: (seq_len_query, hidden_dim)\n",
    "    doc_embeds = F.normalize(doc_embeds, p=2, dim=1)      # Shape: (seq_len_doc, hidden_dim)\n",
    "\n",
    "    # Compute similarity matrix\n",
    "    similarity_matrix = torch.matmul(query_embeds, doc_embeds.T)  # Shape: (seq_len_query, seq_len_doc)\n",
    "\n",
    "    # Take max similarity for each query token\n",
    "    max_sim_per_query_token, _ = similarity_matrix.max(dim=1)  # Shape: (seq_len_query)\n",
    "\n",
    "    # Aggregate scores (e.g., summing or mean)\n",
    "    total_similarity = max_sim_per_query_token.sum()  # Scalar\n",
    "    return total_similarity.item()"
   ]
  },
  {
   "cell_type": "code",
   "execution_count": 6,
   "id": "2f22be19-ce00-4462-9f6f-2826c98f6d85",
   "metadata": {},
   "outputs": [],
   "source": [
    "# Retrieval with Late Interaction\n",
    "\n",
    "def retrieve_with_late_interaction(query, documents, tokenizer, model, top_k=5, device=\"cpu\"):\n",
    "    \"\"\"Retrieve documents using max-sim late interaction.\"\"\"\n",
    "    # Encode query tokens\n",
    "    query_embeddings = encode_text([query], tokenizer, model, device=device).squeeze(0)  # Shape: (seq_len_query, hidden_dim)\n",
    "\n",
    "    # Compute max-sim score for each document\n",
    "    scores = []\n",
    "    for doc in documents:\n",
    "        doc_embeddings = encode_text([doc], tokenizer, model, device=device).squeeze(0)  # Shape: (seq_len_doc, hidden_dim)\n",
    "        score = compute_max_similarity(query_embeddings, doc_embeddings)\n",
    "        scores.append(score)\n",
    "\n",
    "    # Rank documents by similarity\n",
    "    ranked_indices = np.argsort(scores)[::-1][:top_k]\n",
    "    ranked_results = [(documents[i], scores[i]) for i in ranked_indices]\n",
    "\n",
    "    return ranked_results\n"
   ]
  },
  {
   "cell_type": "code",
   "execution_count": 7,
   "id": "7d3ad14e-db16-40de-b0be-e8bc92c5ddfb",
   "metadata": {},
   "outputs": [],
   "source": [
    "# Sample documents\n",
    "\n",
    "documents = [\n",
    "    \"The Eiffel Tower is in Paris.\",\n",
    "    \"The Mona Lisa is in the Louvre.\",\n",
    "    \"The Great Wall of China is a historic site.\",\n",
    "    \"Mount Everest is the tallest mountain on Earth.\"\n",
    "]"
   ]
  },
  {
   "cell_type": "code",
   "execution_count": 8,
   "id": "26884ae9-06c5-425b-85d7-de055ed5bc41",
   "metadata": {},
   "outputs": [],
   "source": [
    "# Precompute embeddings and index them\n",
    "\n",
    "device = \"cuda\" if torch.cuda.is_available() else \"cpu\"\n",
    "model.to(device)\n",
    "index, doc_embeddings = index_documents(documents, tokenizer, model, device=device)"
   ]
  },
  {
   "cell_type": "code",
   "execution_count": 9,
   "id": "447bbcee-0b84-4946-9273-ca4f56a3d733",
   "metadata": {},
   "outputs": [],
   "source": [
    "# Query the documents with late interaction\n",
    "\n",
    "query = \"Where is the Eiffel Tower?\"\n",
    "results = retrieve_with_late_interaction(query, documents, tokenizer, model, top_k=1, device=device)"
   ]
  },
  {
   "cell_type": "code",
   "execution_count": 10,
   "id": "7da4aaa3-15ba-48da-8585-9d934716151f",
   "metadata": {},
   "outputs": [
    {
     "name": "stdout",
     "output_type": "stream",
     "text": [
      "Query: Where is the Eiffel Tower?\n",
      "Results:\n",
      "- The Eiffel Tower is in Paris. (Max Sim Score: 97.0134)\n"
     ]
    }
   ],
   "source": [
    "# Results\n",
    "print(\"Query:\", query)\n",
    "print(\"Results:\")\n",
    "for doc, score in results:\n",
    "    print(f\"- {doc} (Max Sim Score: {score:.4f})\")"
   ]
  }
 ],
 "metadata": {
  "kernelspec": {
   "display_name": "Python 3 (ipykernel)",
   "language": "python",
   "name": "python3"
  },
  "language_info": {
   "codemirror_mode": {
    "name": "ipython",
    "version": 3
   },
   "file_extension": ".py",
   "mimetype": "text/x-python",
   "name": "python",
   "nbconvert_exporter": "python",
   "pygments_lexer": "ipython3",
   "version": "3.10.15"
  },
  "widgets": {
   "application/vnd.jupyter.widget-state+json": {
    "state": {},
    "version_major": 2,
    "version_minor": 0
   }
  }
 },
 "nbformat": 4,
 "nbformat_minor": 5
}
