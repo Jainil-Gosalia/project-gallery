{
 "cells": [
  {
   "cell_type": "code",
   "execution_count": 2,
   "metadata": {},
   "outputs": [],
   "source": [
    "# Libraries \n",
    "\n",
    "from sentence_transformers import SentenceTransformer\n",
    "from transformers import AutoTokenizer, AutoModelForCausalLM\n",
    "import numpy as np\n",
    "import faiss\n",
    "import fitz\n",
    "\n",
    "import warnings\n",
    "warnings.filterwarnings(\"ignore\")"
   ]
  },
  {
   "cell_type": "code",
   "execution_count": 3,
   "metadata": {},
   "outputs": [],
   "source": [
    "# Embedding Model\n",
    "\n",
    "embedder = SentenceTransformer('paraphrase-MiniLM-L6-v2')"
   ]
  },
  {
   "cell_type": "code",
   "execution_count": 4,
   "metadata": {},
   "outputs": [],
   "source": [
    "pdf_path = \"ds_interview_500.pdf\"\n",
    "text = \"\"\n",
    "with fitz.open(pdf_path) as pdf:\n",
    "    for page_num in range(len(pdf)):\n",
    "        page = pdf[page_num]\n",
    "        text += page.get_text()  # Extract text from each page"
   ]
  },
  {
   "cell_type": "code",
   "execution_count": 5,
   "metadata": {},
   "outputs": [],
   "source": [
    "# Chunking text \n",
    "\n",
    "def chunk_text(text, chunk_size, overlap_size):\n",
    "    \"\"\"\n",
    "    Splits text into chunks of specified size with specified overlap.\n",
    "    \n",
    "    Args:\n",
    "        text (str): The full text to split into chunks.\n",
    "        chunk_size (int): The number of characters in each chunk.\n",
    "        overlap_size (int): The number of overlapping characters between chunks.\n",
    "    \n",
    "    Returns:\n",
    "        list of str: List of text chunks.\n",
    "    \"\"\"\n",
    "    chunks = []\n",
    "    start = 0\n",
    "    while start < len(text):\n",
    "        end = min(start + chunk_size, len(text))  # End of chunk, not to exceed text length\n",
    "        chunk = text[start:end]\n",
    "        chunks.append(chunk)\n",
    "        start += chunk_size - overlap_size  # Advance start by chunk size minus overlap\n",
    "\n",
    "    return chunks\n",
    "\n",
    "chunk_size = 500  # Set the desired chunk size\n",
    "overlap_size = 100  # Set the desired overlap size\n",
    "\n",
    "chunks = chunk_text(text, chunk_size, overlap_size)"
   ]
  },
  {
   "cell_type": "code",
   "execution_count": 6,
   "metadata": {},
   "outputs": [],
   "source": [
    "# Documents to embed\n",
    "\n",
    "documents = chunks"
   ]
  },
  {
   "cell_type": "code",
   "execution_count": 7,
   "metadata": {},
   "outputs": [],
   "source": [
    "# Encode the documents\n",
    "\n",
    "document_embeddings = embedder.encode(documents)"
   ]
  },
  {
   "cell_type": "code",
   "execution_count": 8,
   "metadata": {},
   "outputs": [],
   "source": [
    "# Initialize a FAISS index\n",
    "\n",
    "embedding_dim = document_embeddings.shape[1]\n",
    "index = faiss.IndexFlatL2(embedding_dim)\n",
    "index.add(np.array(document_embeddings))\n"
   ]
  },
  {
   "cell_type": "code",
   "execution_count": 9,
   "metadata": {},
   "outputs": [],
   "source": [
    "# Function for retrieval\n",
    "\n",
    "def retrieve(query, k=2):\n",
    "    query_embedding = embedder.encode([query])\n",
    "    distances, indices = index.search(query_embedding, k)\n",
    "    return [(documents[idx], round(float(distances[0][i]),2)) for i, idx in enumerate(indices[0])]"
   ]
  },
  {
   "cell_type": "code",
   "execution_count": 10,
   "metadata": {},
   "outputs": [],
   "source": [
    "# Query\n",
    "query = \"What Is A Recommender System?\""
   ]
  },
  {
   "cell_type": "code",
   "execution_count": 11,
   "metadata": {},
   "outputs": [
    {
     "data": {
      "text/plain": [
       "[('Answer:\\nA recommender system is today widely deployed in multiple fields like movie\\nrecommendations, music preferences, social tags, research articles, search\\nqueries and so on. The recommender systems work as per collaborative and\\ncontent-based filte\\nring or by deploying a personality-based approach. This type of system works\\nbased on a person’s past behavior in order to build a model for the future. This\\nwill predict the future product buying, movie viewing or book reading by\\npeople. It also c',\n",
       "  17.7),\n",
       " ('unt of money spent\\nfor election campaigning of a particular candidate, the amount of time spent in\\ncampaigning, etc.\\n225. What are Recommender Systems?\\nRecommender Systems are a subclass of information filtering systems that are\\nmeant to predict the preferences or ratings that a user would give to a\\nproduct. Recommender systems are widely used in movies, news, research\\narticles, products, social tags, music, etc.\\nExamples include movie recommenders in IMDB, Netflix & BookMyShow,\\nproduct recommen',\n",
       "  18.79)]"
      ]
     },
     "execution_count": 11,
     "metadata": {},
     "output_type": "execute_result"
    }
   ],
   "source": [
    "# Retrieval Result\n",
    "\n",
    "retrieved_docs = retrieve(query, k=2)\n",
    "retrieved_docs # <- Pass these too LLM as context along side the prompt"
   ]
  }
 ],
 "metadata": {
  "kernelspec": {
   "display_name": "base",
   "language": "python",
   "name": "python3"
  },
  "language_info": {
   "codemirror_mode": {
    "name": "ipython",
    "version": 3
   },
   "file_extension": ".py",
   "mimetype": "text/x-python",
   "name": "python",
   "nbconvert_exporter": "python",
   "pygments_lexer": "ipython3",
   "version": "3.12.7"
  }
 },
 "nbformat": 4,
 "nbformat_minor": 2
}
